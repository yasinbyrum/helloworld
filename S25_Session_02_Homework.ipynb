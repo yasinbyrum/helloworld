{
  "nbformat": 4,
  "nbformat_minor": 0,
  "metadata": {
    "colab": {
      "provenance": [],
      "include_colab_link": true
    },
    "kernelspec": {
      "name": "python3",
      "display_name": "Python 3"
    },
    "language_info": {
      "name": "python"
    }
  },
  "cells": [
    {
      "cell_type": "markdown",
      "metadata": {
        "id": "view-in-github",
        "colab_type": "text"
      },
      "source": [
        "<a href=\"https://colab.research.google.com/github/yasinbyrum/helloworld/blob/master/S25_Session_02_Homework.ipynb\" target=\"_parent\"><img src=\"https://colab.research.google.com/assets/colab-badge.svg\" alt=\"Open In Colab\"/></a>"
      ]
    },
    {
      "cell_type": "markdown",
      "source": [
        "# Error correction from 22.03.2025\n",
        "\n",
        "There are two errors in the homework from Wednesday, March 19, 2025, which I need to correct. <br>\n",
        "Sorry about that. <br>Correction in Homework 2 and Homework 4.\n",
        "- In Homework 2, the comment section \"if total cost is above $100\" is deleted. This makes the problem solvable.\n",
        "- In Homework 4, the question section \"whether they are a student (boolean)\" is also deleted. This makes this problem solvable as well."
      ],
      "metadata": {
        "id": "w2W-dxxUeqbV"
      }
    },
    {
      "cell_type": "markdown",
      "source": [
        "# Homework for Session 02 from 19.03.2025\n",
        "\n",
        "##- Python Variables\n",
        "##- Python Primitve Data Types\n",
        "##- Python Interactive Programming\n",
        "##- Python Comments"
      ],
      "metadata": {
        "id": "hrSSZ6Y_qGLI"
      }
    },
    {
      "cell_type": "markdown",
      "source": [
        "<br><br>\n",
        "\n"
      ],
      "metadata": {
        "id": "_alHCMKYNnnj"
      }
    },
    {
      "cell_type": "markdown",
      "source": [
        "## Homework for Python Variables"
      ],
      "metadata": {
        "id": "D9RnOB_jlNG4"
      }
    },
    {
      "cell_type": "markdown",
      "source": [
        "**Homework 1:** <br>\n",
        "**Task:** Write a Python program that defines three variables:<br>\n",
        "\n",
        "- A string for your favorite color\n",
        "- An integer for your birth year\n",
        "- A float for your height in meters\n",
        "- Then, print them in a structured format.\n",
        "<br>"
      ],
      "metadata": {
        "id": "syZ6_IHAHpdn"
      }
    },
    {
      "cell_type": "code",
      "source": [
        "# Expected Code\n",
        "\n",
        "# Define the three variables\n",
        "\n",
        "\n",
        "\n",
        "# Print the variables with values in a structured format"
      ],
      "metadata": {
        "id": "P82cfqkShbda"
      },
      "execution_count": null,
      "outputs": []
    },
    {
      "cell_type": "markdown",
      "source": [
        "<br><br>"
      ],
      "metadata": {
        "id": "w3-dRH01h515"
      }
    },
    {
      "cell_type": "markdown",
      "source": [
        "**Homework 2:** <br>\n",
        "**Task:** Write a Python program that:\n",
        "\n",
        "- Takes the price of an item and the quantity purchased as input from the user.\n",
        "- Calculates the total cost.\n",
        "- Applies a 5% discount.\n",
        "<br>\n"
      ],
      "metadata": {
        "id": "LueuREjLlJ3W"
      }
    },
    {
      "cell_type": "code",
      "source": [
        "# Expected Code\n",
        "\n",
        "\n",
        "# Get user input for price and quantity\n",
        "\n",
        "\n",
        "\n",
        "# Calculate the total cost\n",
        "\n",
        "\n",
        "\n",
        "# Apply a 5% discount\n",
        "\n",
        "\n",
        "\n",
        "# Print the final cost\n",
        "\n"
      ],
      "metadata": {
        "id": "KJn6V1IRh73B"
      },
      "execution_count": null,
      "outputs": []
    },
    {
      "cell_type": "markdown",
      "source": [
        "<br><br>"
      ],
      "metadata": {
        "id": "moZJ95DqiTk0"
      }
    },
    {
      "cell_type": "markdown",
      "source": [
        "**Homework 3:** <br>\n",
        "The following Python code contains an error related to primitive variables. <br>\n",
        "**Task:** Your task is to find the mistake, explain why it happens, and correct it.\n",
        "<br>"
      ],
      "metadata": {
        "id": "s_59DfICnvpU"
      }
    },
    {
      "cell_type": "code",
      "source": [
        "# Defining variables\n",
        "name = 'Alice'\n",
        "age = \"25\"  # Age should be a number\n",
        "height = 5.7\n",
        "\n",
        "# Performing calculations\n",
        "next_year_age = age + 1  # Adding 1 to age\n",
        "\n",
        "# Printing results\n",
        "print(f\"Next year, {name} will be {next_year_age} years old.\")\n"
      ],
      "metadata": {
        "id": "BoZd905xn34w"
      },
      "execution_count": null,
      "outputs": []
    },
    {
      "cell_type": "markdown",
      "source": [
        "<br><br>"
      ],
      "metadata": {
        "id": "sWmylkZyic2O"
      }
    },
    {
      "cell_type": "markdown",
      "source": [
        "## Homework for Python Primitve Data Types"
      ],
      "metadata": {
        "id": "2iDuwHeLljRd"
      }
    },
    {
      "cell_type": "markdown",
      "source": [
        "**Homework 4:** <br>\n",
        "**Task:** Write a Python program that takes user input for <br>\n",
        "- name (string),\n",
        "- age (integer),\n",
        "- height (float) <br><br>\n",
        "Print each value along with its data type.\n",
        "<br>\n",
        "\n"
      ],
      "metadata": {
        "id": "iIbRI1pCl1fq"
      }
    },
    {
      "cell_type": "code",
      "source": [
        "# Expected Code\n",
        "\n",
        "\n",
        "# Get user input\n",
        "\n",
        "\n",
        "\n",
        "# Print values with their data types\n",
        "\n"
      ],
      "metadata": {
        "id": "UcOGD6dUi2YT"
      },
      "execution_count": null,
      "outputs": []
    },
    {
      "cell_type": "markdown",
      "source": [
        "<br><br>"
      ],
      "metadata": {
        "id": "Po1-f06ci2YU"
      }
    },
    {
      "cell_type": "markdown",
      "source": [
        "**Homework 5:** <br>\n",
        "**Task:** Write a Python program that takes a user's birth year and calculates their age in years. <br> Print the age to the terminal.\n",
        "<br>"
      ],
      "metadata": {
        "id": "veOhIvl6mbMX"
      }
    },
    {
      "cell_type": "code",
      "source": [
        "# Expected Code\n",
        "\n",
        "# Get the user's birth year\n",
        "\n",
        "\n",
        "# Calculate the age\n",
        "current_year = 2025  # Update this to the current year\n",
        "\n",
        "\n",
        "# Print the result\n",
        "\n"
      ],
      "metadata": {
        "id": "8QANrkrcjW3W"
      },
      "execution_count": null,
      "outputs": []
    },
    {
      "cell_type": "markdown",
      "source": [
        "<br><br>"
      ],
      "metadata": {
        "id": "H3Jc2TyAjf-2"
      }
    },
    {
      "cell_type": "markdown",
      "source": [
        "**Homework 6:** <br>\n",
        "The following Python program is supposed to take a user's weight in kilograms and height in meters, then calculate and print their BMI (Body Mass Index). However, there is a mistake in the code. <br>\n",
        "**Task:** Identify the error in the code below.\n",
        "Fix the error and test the corrected version.\n",
        "<br>"
      ],
      "metadata": {
        "id": "r_nVAhginVkm"
      }
    },
    {
      "cell_type": "code",
      "source": [
        "## Code with error\n",
        "\n",
        "# Taking user input for weight and height\n",
        "weight = input(\"Enter your weight in kg: \")\n",
        "height = input(\"Enter your height in meters: \")\n",
        "\n",
        "# Calculating BMI\n",
        "bmi = weight / (height ** 2)\n",
        "\n",
        "# Displaying the result\n",
        "print(\"Your BMI is:\", bmi)\n"
      ],
      "metadata": {
        "id": "e5JK4Fcynfht"
      },
      "execution_count": null,
      "outputs": []
    },
    {
      "cell_type": "markdown",
      "source": [
        "<br><br><br>"
      ],
      "metadata": {
        "id": "6SAMcD1Izzpr"
      }
    }
  ]
}